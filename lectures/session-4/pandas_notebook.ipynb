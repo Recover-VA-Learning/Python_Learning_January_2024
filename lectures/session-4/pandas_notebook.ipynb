{
 "cells": [
  {
   "cell_type": "code",
   "execution_count": 2,
   "metadata": {},
   "outputs": [],
   "source": [
    "# import libraries\n",
    "import pandas as pd"
   ]
  },
  {
   "cell_type": "markdown",
   "metadata": {},
   "source": [
    "Create a dataframe with the following columns:\n",
    "- `Name`: name of the user\n",
    "- `Age`: age of the user\n",
    "- `City`: city of the user"
   ]
  },
  {
   "cell_type": "code",
   "execution_count": 4,
   "metadata": {},
   "outputs": [
    {
     "name": "stdout",
     "output_type": "stream",
     "text": [
      "     Name  Age         City\n",
      "0     Tim   36      St Paul\n",
      "1  Stuart   28      St Paul\n",
      "2    Ally   25     Plymouth\n",
      "3  Kierra   25  Minneapolis\n"
     ]
    }
   ],
   "source": [
    "# Create a DataFrame\n",
    "data = {'Name': ['Tim', 'Stuart', 'Ally', 'Kierra'],\n",
    "        'Age': [36, 28, 25, 25],\n",
    "        'City': ['St Paul', 'St Paul', 'Plymouth', 'Minneapolis']}\n",
    "df = pd.DataFrame(data)\n",
    "print(df)\n"
   ]
  },
  {
   "cell_type": "code",
   "execution_count": 5,
   "metadata": {},
   "outputs": [
    {
     "name": "stdout",
     "output_type": "stream",
     "text": [
      "\n",
      "Accessing columns:\n",
      "0       Tim\n",
      "1    Stuart\n",
      "2      Ally\n",
      "3    Kierra\n",
      "Name: Name, dtype: object\n",
      "0    36\n",
      "1    28\n",
      "2    25\n",
      "3    25\n",
      "Name: Age, dtype: int64\n",
      "\n",
      "Accessing rows:\n",
      "Name        Tim\n",
      "Age          36\n",
      "City    St Paul\n",
      "Name: 0, dtype: object\n",
      "Name        Ally\n",
      "Age           25\n",
      "City    Plymouth\n",
      "Name: 2, dtype: object\n"
     ]
    }
   ],
   "source": [
    "print(\"\\nAccessing columns:\")\n",
    "print(df['Name'])\n",
    "print(df.Age)\n",
    "\n",
    "# Accessing rows\n",
    "print(\"\\nAccessing rows:\")\n",
    "print(df.loc[0])\n",
    "print(df.iloc[2])"
   ]
  },
  {
   "cell_type": "code",
   "execution_count": 6,
   "metadata": {},
   "outputs": [
    {
     "name": "stdout",
     "output_type": "stream",
     "text": [
      "\n",
      "Filtering data:\n",
      "  Name  Age     City\n",
      "0  Tim   36  St Paul\n"
     ]
    }
   ],
   "source": [
    "# Filtering data\n",
    "print(\"\\nFiltering data:\")\n",
    "filtered_df = df[df['Age'] > 28]\n",
    "print(filtered_df)"
   ]
  },
  {
   "cell_type": "markdown",
   "metadata": {},
   "source": [
    "Add group colomn to the dataframe with the following values:\n",
    "- `Group`: is the workgroup of the user"
   ]
  },
  {
   "cell_type": "code",
   "execution_count": 8,
   "metadata": {},
   "outputs": [
    {
     "name": "stdout",
     "output_type": "stream",
     "text": [
      "\n",
      "DataFrame with a new column:\n",
      "     Name  Age         City     Group\n",
      "0     Tim   36      St Paul    Design\n",
      "1  Stuart   28      St Paul    Design\n",
      "2    Ally   25     Plymouth  Research\n",
      "3  Kierra   25  Minneapolis  Research\n"
     ]
    }
   ],
   "source": [
    "# Adding a new column\n",
    "df['Group'] = ['Design', 'Design', 'Research', 'Research']\n",
    "print(\"\\nDataFrame with a new column:\")\n",
    "print(df)"
   ]
  },
  {
   "cell_type": "code",
   "execution_count": 9,
   "metadata": {},
   "outputs": [
    {
     "name": "stdout",
     "output_type": "stream",
     "text": [
      "\n",
      "Grouping data:\n",
      "          Name  Age  City\n",
      "Group                    \n",
      "Design       2    2     2\n",
      "Research     2    2     2\n"
     ]
    }
   ],
   "source": [
    "# Grouping data\n",
    "print(\"\\nGrouping data:\")\n",
    "grouped_df = df.groupby('Group').count()\n",
    "print(grouped_df)"
   ]
  }
 ],
 "metadata": {
  "kernelspec": {
   "display_name": ".venv",
   "language": "python",
   "name": "python3"
  },
  "language_info": {
   "codemirror_mode": {
    "name": "ipython",
    "version": 3
   },
   "file_extension": ".py",
   "mimetype": "text/x-python",
   "name": "python",
   "nbconvert_exporter": "python",
   "pygments_lexer": "ipython3",
   "version": "3.9.12"
  }
 },
 "nbformat": 4,
 "nbformat_minor": 2
}
