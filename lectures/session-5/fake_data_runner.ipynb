{
 "cells": [
  {
   "cell_type": "code",
   "execution_count": 17,
   "metadata": {},
   "outputs": [],
   "source": [
    "import os\n",
    "import shutil\n",
    "from fake_data_pipeline import generate_fake_data"
   ]
  },
  {
   "cell_type": "code",
   "execution_count": 18,
   "metadata": {},
   "outputs": [],
   "source": [
    "paths_of_directories = []\n",
    "current_directory = os.getcwd()"
   ]
  },
  {
   "cell_type": "code",
   "execution_count": 19,
   "metadata": {},
   "outputs": [],
   "source": [
    "# create 10 directories\n",
    "for i in range(1, 11):\n",
    "    directory_name = f\"data{i}\"\n",
    "    os.mkdir(directory_name)\n",
    "    paths_of_directories.append(os.path.join(current_directory,directory_name))\n"
   ]
  },
  {
   "cell_type": "code",
   "execution_count": 20,
   "metadata": {},
   "outputs": [
    {
     "name": "stdout",
     "output_type": "stream",
     "text": [
      "['/Users/awshift/Documents/PythonLearning2024/lectures/session-5/data1', '/Users/awshift/Documents/PythonLearning2024/lectures/session-5/data2', '/Users/awshift/Documents/PythonLearning2024/lectures/session-5/data3', '/Users/awshift/Documents/PythonLearning2024/lectures/session-5/data4', '/Users/awshift/Documents/PythonLearning2024/lectures/session-5/data5', '/Users/awshift/Documents/PythonLearning2024/lectures/session-5/data6', '/Users/awshift/Documents/PythonLearning2024/lectures/session-5/data7', '/Users/awshift/Documents/PythonLearning2024/lectures/session-5/data8', '/Users/awshift/Documents/PythonLearning2024/lectures/session-5/data9', '/Users/awshift/Documents/PythonLearning2024/lectures/session-5/data10']\n"
     ]
    }
   ],
   "source": [
    "print(paths_of_directories)"
   ]
  },
  {
   "cell_type": "code",
   "execution_count": 13,
   "metadata": {},
   "outputs": [],
   "source": [
    "for directory in paths_of_directories:\n",
    "    generate_fake_data(10, 5, directory)"
   ]
  },
  {
   "cell_type": "markdown",
   "metadata": {},
   "source": [
    "clean up what you just did"
   ]
  },
  {
   "cell_type": "code",
   "execution_count": 16,
   "metadata": {},
   "outputs": [],
   "source": [
    "# delete the 10 directories\n",
    "for i in range(1, 11):\n",
    "    directory_name = f\"data{i}\"\n",
    "    shutil.rmtree(directory_name, ignore_errors=True)\n",
    "\n"
   ]
  }
 ],
 "metadata": {
  "kernelspec": {
   "display_name": ".venv",
   "language": "python",
   "name": "python3"
  },
  "language_info": {
   "codemirror_mode": {
    "name": "ipython",
    "version": 3
   },
   "file_extension": ".py",
   "mimetype": "text/x-python",
   "name": "python",
   "nbconvert_exporter": "python",
   "pygments_lexer": "ipython3",
   "version": "3.9.12"
  }
 },
 "nbformat": 4,
 "nbformat_minor": 2
}
