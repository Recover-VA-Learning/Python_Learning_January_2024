{
 "cells": [
  {
   "cell_type": "markdown",
   "metadata": {},
   "source": [
    "# More Pandas topics"
   ]
  },
  {
   "cell_type": "code",
   "execution_count": 2,
   "metadata": {},
   "outputs": [],
   "source": [
    "import pandas as pd"
   ]
  },
  {
   "cell_type": "markdown",
   "metadata": {},
   "source": [
    "### 1. Setting Types\n",
    "Might need to change the type for a column in dataframe"
   ]
  },
  {
   "cell_type": "code",
   "execution_count": 38,
   "metadata": {},
   "outputs": [],
   "source": [
    "df = pd.DataFrame({'names': ['joe', 'hank', 'kim', 'bob'], 'data': [\"1\", \"2\", \"3\", \"4\"], 'more_data': [5, 6, 7, 8]})"
   ]
  },
  {
   "cell_type": "code",
   "execution_count": 37,
   "metadata": {},
   "outputs": [
    {
     "data": {
      "text/plain": [
       "names         object\n",
       "data          object\n",
       "more_data    float64\n",
       "dtype: object"
      ]
     },
     "execution_count": 37,
     "metadata": {},
     "output_type": "execute_result"
    }
   ],
   "source": [
    "df.dtypes"
   ]
  },
  {
   "cell_type": "code",
   "execution_count": 27,
   "metadata": {},
   "outputs": [],
   "source": [
    "# convert data column to int64\n",
    "df['data'] = df['data'].astype('int64')"
   ]
  },
  {
   "cell_type": "code",
   "execution_count": 28,
   "metadata": {},
   "outputs": [
    {
     "data": {
      "text/plain": [
       "names        object\n",
       "data          int64\n",
       "more_data     int64\n",
       "dtype: object"
      ]
     },
     "execution_count": 28,
     "metadata": {},
     "output_type": "execute_result"
    }
   ],
   "source": [
    "df.dtypes"
   ]
  },
  {
   "cell_type": "markdown",
   "metadata": {},
   "source": [
    "### 2. MultiIndexing: \n",
    "Pandas allows creating DataFrames with MultiIndex, which means having multiple levels of row or column indices. This is particularly useful when dealing with complex hierarchical data."
   ]
  },
  {
   "cell_type": "code",
   "execution_count": 3,
   "metadata": {},
   "outputs": [
    {
     "name": "stdout",
     "output_type": "stream",
     "text": [
      "              data\n",
      "first second      \n",
      "A     1          1\n",
      "      2          2\n",
      "B     1          3\n",
      "      2          4\n"
     ]
    }
   ],
   "source": [
    "# Creating a DataFrame with MultiIndex\n",
    "arrays = [['A', 'A', 'B', 'B'], [1, 2, 1, 2]]\n",
    "index = pd.MultiIndex.from_arrays(arrays, names=('first', 'second'))\n",
    "df = pd.DataFrame({'data': [1, 2, 3, 4]}, index=index)\n",
    "print(df)"
   ]
  },
  {
   "cell_type": "markdown",
   "metadata": {},
   "source": [
    "Hierarchical Representation:  you can organize information in a structured manner. \n",
    "\n",
    "Efficient Data Manipulation: You can easily perform operations like grouping, aggregation, and slicing based on the hierarchical index levels.\n",
    "\n",
    "Flexibility in Analysis: Multi-indexing provides flexibility in data analysis. You can analyze data at different levels of granularity.\n",
    "\n",
    "Time Series Analysis: In time-series data, multi-indexing can be used to represent hierarchical time series, where you may have multiple levels such as year, month, and day.\n",
    "\n"
   ]
  },
  {
   "cell_type": "code",
   "execution_count": 13,
   "metadata": {},
   "outputs": [
    {
     "name": "stdout",
     "output_type": "stream",
     "text": [
      "             Participants\n",
      "Region Year              \n",
      "North  2019           100\n",
      "       2020           120\n",
      "South  2019            80\n",
      "       2020            90\n",
      "East   2019           110\n",
      "       2020           130\n",
      "West   2019            95\n",
      "       2020           105\n"
     ]
    }
   ],
   "source": [
    "import pandas as pd\n",
    "\n",
    "# Sample study participant data and location\n",
    "data = {\n",
    "    'Region': ['North', 'North', 'South', 'South', 'East', 'East', 'West', 'West'],\n",
    "    'Year': [2019, 2020, 2019, 2020, 2019, 2020, 2019, 2020],\n",
    "    'Participants': [100, 120, 80, 90, 110, 130, 95, 105]\n",
    "}\n",
    "\n",
    "# Creating DataFrame\n",
    "df = pd.DataFrame(data)\n",
    "\n",
    "# Setting MultiIndex\n",
    "df.set_index(['Region', 'Year'], inplace=True)\n",
    "\n",
    "print(df)"
   ]
  },
  {
   "cell_type": "code",
   "execution_count": 14,
   "metadata": {},
   "outputs": [
    {
     "data": {
      "text/html": [
       "<div>\n",
       "<style scoped>\n",
       "    .dataframe tbody tr th:only-of-type {\n",
       "        vertical-align: middle;\n",
       "    }\n",
       "\n",
       "    .dataframe tbody tr th {\n",
       "        vertical-align: top;\n",
       "    }\n",
       "\n",
       "    .dataframe thead th {\n",
       "        text-align: right;\n",
       "    }\n",
       "</style>\n",
       "<table border=\"1\" class=\"dataframe\">\n",
       "  <thead>\n",
       "    <tr style=\"text-align: right;\">\n",
       "      <th></th>\n",
       "      <th>Participants</th>\n",
       "    </tr>\n",
       "    <tr>\n",
       "      <th>Region</th>\n",
       "      <th></th>\n",
       "    </tr>\n",
       "  </thead>\n",
       "  <tbody>\n",
       "    <tr>\n",
       "      <th>East</th>\n",
       "      <td>120.0</td>\n",
       "    </tr>\n",
       "    <tr>\n",
       "      <th>North</th>\n",
       "      <td>110.0</td>\n",
       "    </tr>\n",
       "    <tr>\n",
       "      <th>South</th>\n",
       "      <td>85.0</td>\n",
       "    </tr>\n",
       "    <tr>\n",
       "      <th>West</th>\n",
       "      <td>100.0</td>\n",
       "    </tr>\n",
       "  </tbody>\n",
       "</table>\n",
       "</div>"
      ],
      "text/plain": [
       "        Participants\n",
       "Region              \n",
       "East           120.0\n",
       "North          110.0\n",
       "South           85.0\n",
       "West           100.0"
      ]
     },
     "execution_count": 14,
     "metadata": {},
     "output_type": "execute_result"
    }
   ],
   "source": [
    "df.groupby(by=\"Region\").mean()\n"
   ]
  },
  {
   "cell_type": "code",
   "execution_count": 15,
   "metadata": {},
   "outputs": [
    {
     "data": {
      "text/html": [
       "<div>\n",
       "<style scoped>\n",
       "    .dataframe tbody tr th:only-of-type {\n",
       "        vertical-align: middle;\n",
       "    }\n",
       "\n",
       "    .dataframe tbody tr th {\n",
       "        vertical-align: top;\n",
       "    }\n",
       "\n",
       "    .dataframe thead th {\n",
       "        text-align: right;\n",
       "    }\n",
       "</style>\n",
       "<table border=\"1\" class=\"dataframe\">\n",
       "  <thead>\n",
       "    <tr style=\"text-align: right;\">\n",
       "      <th></th>\n",
       "      <th>Participants</th>\n",
       "    </tr>\n",
       "    <tr>\n",
       "      <th>Year</th>\n",
       "      <th></th>\n",
       "    </tr>\n",
       "  </thead>\n",
       "  <tbody>\n",
       "    <tr>\n",
       "      <th>2019</th>\n",
       "      <td>96.25</td>\n",
       "    </tr>\n",
       "    <tr>\n",
       "      <th>2020</th>\n",
       "      <td>111.25</td>\n",
       "    </tr>\n",
       "  </tbody>\n",
       "</table>\n",
       "</div>"
      ],
      "text/plain": [
       "      Participants\n",
       "Year              \n",
       "2019         96.25\n",
       "2020        111.25"
      ]
     },
     "execution_count": 15,
     "metadata": {},
     "output_type": "execute_result"
    }
   ],
   "source": [
    "df.groupby(by=\"Year\").mean()"
   ]
  },
  {
   "cell_type": "markdown",
   "metadata": {},
   "source": [
    "## 3. Reshaping Data:\n",
    "- **Pivot Tables**: A pivot table is a data summarization tool that is used in the context of data processing. Pivot tables are used to summarize, sort, reorganize, group, count, total, or average data stored in a database. It allows you to transform columns into rows and rows into columns."
   ]
  },
  {
   "cell_type": "code",
   "execution_count": 11,
   "metadata": {},
   "outputs": [
    {
     "name": "stdout",
     "output_type": "stream",
     "text": [
      "Test       A      B      C\n",
      "Month                     \n",
      "1      100.0  120.0  110.0\n",
      "2       80.0   90.0    NaN\n"
     ]
    }
   ],
   "source": [
    "import pandas as pd\n",
    "\n",
    "# Sample test data\n",
    "data = {\n",
    "    'Date': ['2022-01-01', '2022-01-05', '2022-02-10', '2022-02-15', '2022-01-03'],\n",
    "    'Test': ['A', 'B', 'A', 'B', 'C'],\n",
    "    'Data': [100, 120, 80, 90, 110]\n",
    "}\n",
    "\n",
    "# Creating DataFrame\n",
    "df = pd.DataFrame(data)\n",
    "\n",
    "# Converting 'Date' column to datetime\n",
    "df['Date'] = pd.to_datetime(df['Date'])\n",
    "\n",
    "# Extracting month from date\n",
    "df['Month'] = df['Date'].dt.month\n",
    "\n",
    "# Creating pivot table\n",
    "pivot_table = df.pivot_table(index='Month', columns='Test', values='Data', aggfunc='sum')\n",
    "\n",
    "print(pivot_table)"
   ]
  },
  {
   "cell_type": "markdown",
   "metadata": {},
   "source": [
    "- **Stack and Unstack**: The stack() - columns to index. The unstack() - index to columns."
   ]
  },
  {
   "cell_type": "code",
   "execution_count": 16,
   "metadata": {},
   "outputs": [
    {
     "name": "stdout",
     "output_type": "stream",
     "text": [
      "Original DataFrame:\n",
      "                     Value1  Value2\n",
      "Date       Category                \n",
      "2022-01-01 A             10     100\n",
      "           B             20     200\n",
      "2022-01-02 A             30     300\n",
      "           B             40     400\n",
      "\n",
      "Unstacked DataFrame:\n",
      "           Value1     Value2     \n",
      "Category        A   B      A    B\n",
      "Date                             \n",
      "2022-01-01     10  20    100  200\n",
      "2022-01-02     30  40    300  400\n",
      "\n",
      "Stacked DataFrame:\n",
      "                     Value1  Value2\n",
      "Date       Category                \n",
      "2022-01-01 A             10     100\n",
      "           B             20     200\n",
      "2022-01-02 A             30     300\n",
      "           B             40     400\n"
     ]
    },
    {
     "name": "stderr",
     "output_type": "stream",
     "text": [
      "/var/folders/_w/qnw43f513_n3cdcbk9_mv3ch0000gn/T/ipykernel_11720/2299039228.py:28: FutureWarning: The previous implementation of stack is deprecated and will be removed in a future version of pandas. See the What's New notes for pandas 2.1.0 for details. Specify future_stack=True to adopt the new implementation and silence this warning.\n",
      "  stacked_df = unstacked_df.stack()\n"
     ]
    }
   ],
   "source": [
    "import pandas as pd\n",
    "\n",
    "# Sample data\n",
    "data = {\n",
    "    'Date': ['2022-01-01', '2022-01-01', '2022-01-02', '2022-01-02'],\n",
    "    'Category': ['A', 'B', 'A', 'B'],\n",
    "    'Value1': [10, 20, 30, 40],\n",
    "    'Value2': [100, 200, 300, 400]\n",
    "}\n",
    "\n",
    "# Creating DataFrame\n",
    "df = pd.DataFrame(data)\n",
    "\n",
    "# Setting hierarchical index\n",
    "df.set_index(['Date', 'Category'], inplace=True)\n",
    "\n",
    "print(\"Original DataFrame:\")\n",
    "print(df)\n",
    "print()\n",
    "\n",
    "# Unstacking DataFrame\n",
    "unstacked_df = df.unstack()\n",
    "print(\"Unstacked DataFrame:\")\n",
    "print(unstacked_df)\n",
    "print()\n",
    "\n",
    "# Stacking DataFrame\n",
    "stacked_df = unstacked_df.stack()\n",
    "print(\"Stacked DataFrame:\")\n",
    "print(stacked_df)"
   ]
  },
  {
   "cell_type": "markdown",
   "metadata": {},
   "source": [
    "### Time Series Data Analysis\n",
    "- **Time Resampling**: Time resampling is the process of changing the time frequency of the time series data."
   ]
  },
  {
   "cell_type": "code",
   "execution_count": 64,
   "metadata": {},
   "outputs": [
    {
     "data": {
      "text/plain": [
       "DatetimeIndex(['2022-01-01 10:00:00', '2022-01-01 10:00:01',\n",
       "               '2022-01-01 10:00:02', '2022-01-01 10:00:03',\n",
       "               '2022-01-01 10:00:04', '2022-01-01 10:00:05',\n",
       "               '2022-01-01 10:00:06', '2022-01-01 10:00:07',\n",
       "               '2022-01-01 10:00:08', '2022-01-01 10:00:09',\n",
       "               ...\n",
       "               '2022-01-01 10:59:51', '2022-01-01 10:59:52',\n",
       "               '2022-01-01 10:59:53', '2022-01-01 10:59:54',\n",
       "               '2022-01-01 10:59:55', '2022-01-01 10:59:56',\n",
       "               '2022-01-01 10:59:57', '2022-01-01 10:59:58',\n",
       "               '2022-01-01 10:59:59', '2022-01-01 11:00:00'],\n",
       "              dtype='datetime64[ns]', length=3601, freq='s')"
      ]
     },
     "execution_count": 64,
     "metadata": {},
     "output_type": "execute_result"
    }
   ],
   "source": [
    "import pandas as pd\n",
    "\n",
    "# Generating a date range\n",
    "date_range = pd.date_range(start='2022-01-01 10:00:00', end='2022-01-01 11:00:00', freq='s')\n",
    "date_range"
   ]
  },
  {
   "cell_type": "code",
   "execution_count": 65,
   "metadata": {},
   "outputs": [
    {
     "data": {
      "text/html": [
       "<div>\n",
       "<style scoped>\n",
       "    .dataframe tbody tr th:only-of-type {\n",
       "        vertical-align: middle;\n",
       "    }\n",
       "\n",
       "    .dataframe tbody tr th {\n",
       "        vertical-align: top;\n",
       "    }\n",
       "\n",
       "    .dataframe thead th {\n",
       "        text-align: right;\n",
       "    }\n",
       "</style>\n",
       "<table border=\"1\" class=\"dataframe\">\n",
       "  <thead>\n",
       "    <tr style=\"text-align: right;\">\n",
       "      <th></th>\n",
       "      <th>Date</th>\n",
       "      <th>Value</th>\n",
       "    </tr>\n",
       "  </thead>\n",
       "  <tbody>\n",
       "    <tr>\n",
       "      <th>0</th>\n",
       "      <td>2022-01-01 10:00:00</td>\n",
       "      <td>5</td>\n",
       "    </tr>\n",
       "    <tr>\n",
       "      <th>1</th>\n",
       "      <td>2022-01-01 10:00:01</td>\n",
       "      <td>7</td>\n",
       "    </tr>\n",
       "    <tr>\n",
       "      <th>2</th>\n",
       "      <td>2022-01-01 10:00:02</td>\n",
       "      <td>9</td>\n",
       "    </tr>\n",
       "    <tr>\n",
       "      <th>3</th>\n",
       "      <td>2022-01-01 10:00:03</td>\n",
       "      <td>11</td>\n",
       "    </tr>\n",
       "    <tr>\n",
       "      <th>4</th>\n",
       "      <td>2022-01-01 10:00:04</td>\n",
       "      <td>13</td>\n",
       "    </tr>\n",
       "    <tr>\n",
       "      <th>...</th>\n",
       "      <td>...</td>\n",
       "      <td>...</td>\n",
       "    </tr>\n",
       "    <tr>\n",
       "      <th>3596</th>\n",
       "      <td>2022-01-01 10:59:56</td>\n",
       "      <td>7197</td>\n",
       "    </tr>\n",
       "    <tr>\n",
       "      <th>3597</th>\n",
       "      <td>2022-01-01 10:59:57</td>\n",
       "      <td>7199</td>\n",
       "    </tr>\n",
       "    <tr>\n",
       "      <th>3598</th>\n",
       "      <td>2022-01-01 10:59:58</td>\n",
       "      <td>7201</td>\n",
       "    </tr>\n",
       "    <tr>\n",
       "      <th>3599</th>\n",
       "      <td>2022-01-01 10:59:59</td>\n",
       "      <td>7203</td>\n",
       "    </tr>\n",
       "    <tr>\n",
       "      <th>3600</th>\n",
       "      <td>2022-01-01 11:00:00</td>\n",
       "      <td>7205</td>\n",
       "    </tr>\n",
       "  </tbody>\n",
       "</table>\n",
       "<p>3601 rows × 2 columns</p>\n",
       "</div>"
      ],
      "text/plain": [
       "                    Date  Value\n",
       "0    2022-01-01 10:00:00      5\n",
       "1    2022-01-01 10:00:01      7\n",
       "2    2022-01-01 10:00:02      9\n",
       "3    2022-01-01 10:00:03     11\n",
       "4    2022-01-01 10:00:04     13\n",
       "...                  ...    ...\n",
       "3596 2022-01-01 10:59:56   7197\n",
       "3597 2022-01-01 10:59:57   7199\n",
       "3598 2022-01-01 10:59:58   7201\n",
       "3599 2022-01-01 10:59:59   7203\n",
       "3600 2022-01-01 11:00:00   7205\n",
       "\n",
       "[3601 rows x 2 columns]"
      ]
     },
     "execution_count": 65,
     "metadata": {},
     "output_type": "execute_result"
    }
   ],
   "source": [
    "# add random data\n",
    "data = {'Date': date_range,\n",
    "        'Value': [i*2 + 5 for i in range(len(date_range))]}\n",
    "\n",
    "df = pd.DataFrame(data)\n",
    "df"
   ]
  },
  {
   "cell_type": "code",
   "execution_count": 66,
   "metadata": {},
   "outputs": [
    {
     "name": "stdout",
     "output_type": "stream",
     "text": [
      "Original DataFrame:\n",
      "                     Value\n",
      "Date                      \n",
      "2022-01-01 10:00:00      5\n",
      "2022-01-01 10:00:01      7\n",
      "2022-01-01 10:00:02      9\n",
      "2022-01-01 10:00:03     11\n",
      "2022-01-01 10:00:04     13\n",
      "\n"
     ]
    }
   ],
   "source": [
    "\n",
    "# Setting 'Date' column as index\n",
    "df.set_index('Date', inplace=True)\n",
    "\n",
    "print(\"Original DataFrame:\")\n",
    "print(df.head())\n",
    "print()"
   ]
  },
  {
   "cell_type": "code",
   "execution_count": 67,
   "metadata": {},
   "outputs": [
    {
     "name": "stdout",
     "output_type": "stream",
     "text": [
      "10 second Resampled Data:\n",
      "                     Value\n",
      "Date                      \n",
      "2022-01-01 10:00:00    140\n",
      "2022-01-01 10:00:10    340\n",
      "2022-01-01 10:00:20    540\n",
      "2022-01-01 10:00:30    740\n",
      "2022-01-01 10:00:40    940\n",
      "\n"
     ]
    }
   ],
   "source": [
    "# Resampling: Converting daily data to 10 second data\n",
    "ten_sec_data = df.resample('10s').sum()\n",
    "print(\"10 second Resampled Data:\")\n",
    "print(ten_sec_data.head())\n",
    "print()\n"
   ]
  },
  {
   "cell_type": "code",
   "execution_count": 72,
   "metadata": {},
   "outputs": [
    {
     "name": "stdout",
     "output_type": "stream",
     "text": [
      "Rolling Window (3-period) Average:\n",
      "                      Value\n",
      "Date                       \n",
      "2022-01-01 10:00:00     NaN\n",
      "2022-01-01 10:00:01     NaN\n",
      "2022-01-01 10:00:02     7.0\n",
      "2022-01-01 10:00:03     9.0\n",
      "2022-01-01 10:00:04    11.0\n",
      "...                     ...\n",
      "2022-01-01 10:59:56  7195.0\n",
      "2022-01-01 10:59:57  7197.0\n",
      "2022-01-01 10:59:58  7199.0\n",
      "2022-01-01 10:59:59  7201.0\n",
      "2022-01-01 11:00:00  7203.0\n",
      "\n",
      "[3601 rows x 1 columns]\n"
     ]
    }
   ],
   "source": [
    "\n",
    "# Rolling Window: Calculating the rolling average over a window of 3 periods\n",
    "rolling_average = df.rolling(window=3).mean()\n",
    "print(\"Rolling Window (3-period) Average:\")\n",
    "print(rolling_average)"
   ]
  },
  {
   "cell_type": "code",
   "execution_count": 69,
   "metadata": {},
   "outputs": [
    {
     "name": "stdout",
     "output_type": "stream",
     "text": [
      "Shifted Data:\n",
      "                     Value\n",
      "Date                      \n",
      "2022-01-01 10:00:00    NaN\n",
      "2022-01-01 10:00:01    5.0\n",
      "2022-01-01 10:00:02    7.0\n",
      "2022-01-01 10:00:03    9.0\n",
      "2022-01-01 10:00:04   11.0\n",
      "\n"
     ]
    }
   ],
   "source": [
    "# Shifting: Shifting the data by one period\n",
    "shifted_data = df.shift(1)\n",
    "print(\"Shifted Data:\")\n",
    "print(shifted_data.head())\n",
    "print()"
   ]
  }
 ],
 "metadata": {
  "kernelspec": {
   "display_name": ".venv",
   "language": "python",
   "name": "python3"
  },
  "language_info": {
   "codemirror_mode": {
    "name": "ipython",
    "version": 3
   },
   "file_extension": ".py",
   "mimetype": "text/x-python",
   "name": "python",
   "nbconvert_exporter": "python",
   "pygments_lexer": "ipython3",
   "version": "3.9.12"
  }
 },
 "nbformat": 4,
 "nbformat_minor": 2
}
