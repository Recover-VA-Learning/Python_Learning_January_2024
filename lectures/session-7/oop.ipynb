{
 "cells": [
  {
   "cell_type": "markdown",
   "metadata": {},
   "source": [
    "# Object Orientated Programming\n",
    "- Creating objects to \"<b>encapsulate</b>\" code\n",
    "- https://realpython.com/python3-object-oriented-programming/\n"
   ]
  },
  {
   "cell_type": "markdown",
   "metadata": {},
   "source": [
    "to create a class we use the \"class\" keyword\n",
    "by convention the class name is uppercase"
   ]
  },
  {
   "cell_type": "code",
   "execution_count": 13,
   "metadata": {},
   "outputs": [],
   "source": [
    "class Shape:\n",
    "    ..."
   ]
  },
  {
   "cell_type": "code",
   "execution_count": 14,
   "metadata": {},
   "outputs": [
    {
     "name": "stdout",
     "output_type": "stream",
     "text": [
      "3\n"
     ]
    }
   ],
   "source": [
    "new_shape = Shape()\n",
    "new_shape.sides = 3\n",
    "\n",
    "get_sides = new_shape.sides \n",
    "print(get_sides)\n"
   ]
  },
  {
   "cell_type": "markdown",
   "metadata": {},
   "source": [
    "We can explicitly set the <b>class attributes</b>\n",
    "- use the __init__ function to initialize the <b>instance variables</b>\n",
    "- <b>self</b> can be a bit confusing, it mean the currently created instance\n",
    "- the class is the blueprint, the created instance is the new object"
   ]
  },
  {
   "cell_type": "code",
   "execution_count": 15,
   "metadata": {},
   "outputs": [],
   "source": [
    "class Shape:\n",
    "    def __init__(self, sides, height):\n",
    "        self.sides = sides\n",
    "        self.height = height"
   ]
  },
  {
   "cell_type": "code",
   "execution_count": 16,
   "metadata": {},
   "outputs": [],
   "source": [
    "triangle = Shape(3,5)\n"
   ]
  },
  {
   "cell_type": "markdown",
   "metadata": {},
   "source": [
    "Can use validation build into class"
   ]
  },
  {
   "cell_type": "code",
   "execution_count": 17,
   "metadata": {},
   "outputs": [],
   "source": [
    "class Shape:\n",
    "    def __init__(self, sides, height):\n",
    "        if sides <= 0:\n",
    "            raise ValueError(\"Sides must be greater than 0\")\n",
    "        if height <= 0:\n",
    "            raise ValueError(\"Height must be greater than 0\")\n",
    "        self.sides = sides\n",
    "        self.height = height"
   ]
  },
  {
   "cell_type": "code",
   "execution_count": 18,
   "metadata": {},
   "outputs": [
    {
     "ename": "ValueError",
     "evalue": "Sides must be greater than 0",
     "output_type": "error",
     "traceback": [
      "\u001b[0;31m---------------------------------------------------------------------------\u001b[0m",
      "\u001b[0;31mValueError\u001b[0m                                Traceback (most recent call last)",
      "Cell \u001b[0;32mIn[18], line 1\u001b[0m\n\u001b[0;32m----> 1\u001b[0m new_shape \u001b[38;5;241m=\u001b[39m \u001b[43mShape\u001b[49m\u001b[43m(\u001b[49m\u001b[38;5;241;43m0\u001b[39;49m\u001b[43m,\u001b[49m\u001b[38;5;241;43m5\u001b[39;49m\u001b[43m)\u001b[49m\n",
      "Cell \u001b[0;32mIn[17], line 4\u001b[0m, in \u001b[0;36mShape.__init__\u001b[0;34m(self, sides, height)\u001b[0m\n\u001b[1;32m      2\u001b[0m \u001b[38;5;28;01mdef\u001b[39;00m \u001b[38;5;21m__init__\u001b[39m(\u001b[38;5;28mself\u001b[39m, sides, height):\n\u001b[1;32m      3\u001b[0m     \u001b[38;5;28;01mif\u001b[39;00m sides \u001b[38;5;241m<\u001b[39m\u001b[38;5;241m=\u001b[39m \u001b[38;5;241m0\u001b[39m:\n\u001b[0;32m----> 4\u001b[0m         \u001b[38;5;28;01mraise\u001b[39;00m \u001b[38;5;167;01mValueError\u001b[39;00m(\u001b[38;5;124m\"\u001b[39m\u001b[38;5;124mSides must be greater than 0\u001b[39m\u001b[38;5;124m\"\u001b[39m)\n\u001b[1;32m      5\u001b[0m     \u001b[38;5;28;01mif\u001b[39;00m height \u001b[38;5;241m<\u001b[39m\u001b[38;5;241m=\u001b[39m \u001b[38;5;241m0\u001b[39m:\n\u001b[1;32m      6\u001b[0m         \u001b[38;5;28;01mraise\u001b[39;00m \u001b[38;5;167;01mValueError\u001b[39;00m(\u001b[38;5;124m\"\u001b[39m\u001b[38;5;124mHeight must be greater than 0\u001b[39m\u001b[38;5;124m\"\u001b[39m)\n",
      "\u001b[0;31mValueError\u001b[0m: Sides must be greater than 0"
     ]
    }
   ],
   "source": [
    "new_shape = Shape(0,5)"
   ]
  },
  {
   "cell_type": "code",
   "execution_count": 21,
   "metadata": {},
   "outputs": [
    {
     "name": "stdout",
     "output_type": "stream",
     "text": [
      "<__main__.Shape object at 0x10a0a9f40>\n"
     ]
    }
   ],
   "source": [
    "print(new_shape)"
   ]
  },
  {
   "cell_type": "markdown",
   "metadata": {},
   "source": [
    "Can print out contents with the __str__ class function"
   ]
  },
  {
   "cell_type": "code",
   "execution_count": 22,
   "metadata": {},
   "outputs": [],
   "source": [
    "class Shape:\n",
    "    def __init__(self, sides, height):\n",
    "        if sides <= 0:\n",
    "            raise ValueError(\"Sides must be greater than 0\")\n",
    "        if height <= 0:\n",
    "            raise ValueError(\"Height must be greater than 0\")\n",
    "        self.sides = sides\n",
    "        self.height = height\n",
    "\n",
    "    def __str__(self):\n",
    "        return f\"{self.sides} sides, {self.height} height\""
   ]
  },
  {
   "cell_type": "code",
   "execution_count": 23,
   "metadata": {},
   "outputs": [
    {
     "name": "stdout",
     "output_type": "stream",
     "text": [
      "3 sides, 5 height\n"
     ]
    }
   ],
   "source": [
    "tri = Shape(3, 5)\n",
    "print(tri)"
   ]
  },
  {
   "cell_type": "markdown",
   "metadata": {},
   "source": [
    "Can make our own methods in class - method is a function in a class"
   ]
  },
  {
   "cell_type": "code",
   "execution_count": 24,
   "metadata": {},
   "outputs": [],
   "source": [
    "class Shape:\n",
    "    def __init__(self, sides, height):\n",
    "        if sides <= 0:\n",
    "            raise ValueError(\"Sides must be greater than 0\")\n",
    "        if height <= 0:\n",
    "            raise ValueError(\"Height must be greater than 0\")\n",
    "        self.sides = sides\n",
    "        self.height = height\n",
    "\n",
    "    def __str__(self):\n",
    "        return f\"{self.sides} sides, {self.height} height\"\n",
    "    \n",
    "    def calc_area(self):\n",
    "        return 0.5 * self.sides * self.height"
   ]
  },
  {
   "cell_type": "code",
   "execution_count": 25,
   "metadata": {},
   "outputs": [
    {
     "name": "stdout",
     "output_type": "stream",
     "text": [
      "7.5\n"
     ]
    }
   ],
   "source": [
    "tri = Shape(3, 5)\n",
    "print(tri.calc_area())"
   ]
  },
  {
   "cell_type": "markdown",
   "metadata": {},
   "source": [
    "This only calculates area for triangle so we can use instance variables to better calc area"
   ]
  },
  {
   "cell_type": "code",
   "execution_count": 26,
   "metadata": {},
   "outputs": [],
   "source": [
    "class Shape:\n",
    "    def __init__(self, sides, height):\n",
    "        if sides <= 2:\n",
    "            raise ValueError(\"Sides must be greater than 2\")\n",
    "        if height <= 2:\n",
    "            raise ValueError(\"Height must be greater than 2\")\n",
    "        self.sides = sides\n",
    "        self.height = height\n",
    "\n",
    "    def __str__(self):\n",
    "        return f\"{self.sides} sides, {self.height} height\"\n",
    "    \n",
    "    def calc_area(self):\n",
    "        match self.sides:\n",
    "            case 3:\n",
    "                return 0.5 * self.sides * self.height\n",
    "            case 4:\n",
    "                return self.sides * self.height\n",
    "            case _:\n",
    "                raise ValueError(\"can not calculate area\")\n"
   ]
  },
  {
   "cell_type": "markdown",
   "metadata": {},
   "source": [
    "The programmer is able to change the instance variable, and we might not want that"
   ]
  },
  {
   "cell_type": "code",
   "execution_count": 27,
   "metadata": {},
   "outputs": [
    {
     "name": "stdout",
     "output_type": "stream",
     "text": [
      "0 sides, 5 height\n"
     ]
    }
   ],
   "source": [
    "tri = Shape(3,5)\n",
    "tri.sides = 0\n",
    "\n",
    "print(tri)"
   ]
  },
  {
   "cell_type": "markdown",
   "metadata": {},
   "source": [
    "Can use __properties__ in a class to be more explicit with how instance variables are used\n",
    "\n",
    "python has __decorators__ on top of functions\n",
    "- These are more advanced. Think of these as functions that take functions as arguments and can do things with those functions\n",
    "\n",
    "- Here we are using decorator to define getters and setter for properties\n",
    "\n",
    "- Also need to change the name of the __instance variable__ sides , to not clash with the property -sides . _sides is a convention to name an instance variable"
   ]
  },
  {
   "cell_type": "code",
   "execution_count": 30,
   "metadata": {},
   "outputs": [],
   "source": [
    "class Shape:\n",
    "    def __init__(self, sides, height):\n",
    "        \n",
    "        if height <= 2:\n",
    "            raise ValueError(\"Height must be greater than 2\")\n",
    "        self.sides = sides\n",
    "        self.height = height\n",
    "\n",
    "    def __str__(self):\n",
    "        return f\"{self.sides} sides, {self.height} height\"\n",
    "    \n",
    "    # Getter\n",
    "    @property\n",
    "    def sides(self):\n",
    "        return self._sides\n",
    "    \n",
    "    # Setter\n",
    "    @sides.setter\n",
    "    def sides(self, sides):\n",
    "        if sides <= 2:\n",
    "            raise ValueError(\"Sides must be greater than 2\")\n",
    "        self._sides = sides"
   ]
  },
  {
   "cell_type": "markdown",
   "metadata": {},
   "source": [
    "Now the sides instance variable is protected. If you (the programmer) goes through the trouble of validating the data entering the object, this makes it so that the data can not be corrupted elsewhere in the program. Anytime the property is __set__ it is validated "
   ]
  },
  {
   "cell_type": "code",
   "execution_count": 29,
   "metadata": {},
   "outputs": [
    {
     "ename": "ValueError",
     "evalue": "Sides must be greater than 2",
     "output_type": "error",
     "traceback": [
      "\u001b[0;31m---------------------------------------------------------------------------\u001b[0m",
      "\u001b[0;31mValueError\u001b[0m                                Traceback (most recent call last)",
      "Cell \u001b[0;32mIn[29], line 2\u001b[0m\n\u001b[1;32m      1\u001b[0m tri \u001b[38;5;241m=\u001b[39m Shape(\u001b[38;5;241m3\u001b[39m,\u001b[38;5;241m5\u001b[39m)\n\u001b[0;32m----> 2\u001b[0m \u001b[43mtri\u001b[49m\u001b[38;5;241;43m.\u001b[39;49m\u001b[43msides\u001b[49m \u001b[38;5;241m=\u001b[39m \u001b[38;5;241m0\u001b[39m\n\u001b[1;32m      4\u001b[0m \u001b[38;5;28mprint\u001b[39m(tri)\n",
      "Cell \u001b[0;32mIn[28], line 21\u001b[0m, in \u001b[0;36mShape.sides\u001b[0;34m(self, sides)\u001b[0m\n\u001b[1;32m     18\u001b[0m \u001b[38;5;129m@sides\u001b[39m\u001b[38;5;241m.\u001b[39msetter\n\u001b[1;32m     19\u001b[0m \u001b[38;5;28;01mdef\u001b[39;00m \u001b[38;5;21msides\u001b[39m(\u001b[38;5;28mself\u001b[39m, sides):\n\u001b[1;32m     20\u001b[0m     \u001b[38;5;28;01mif\u001b[39;00m sides \u001b[38;5;241m<\u001b[39m\u001b[38;5;241m=\u001b[39m \u001b[38;5;241m2\u001b[39m:\n\u001b[0;32m---> 21\u001b[0m         \u001b[38;5;28;01mraise\u001b[39;00m \u001b[38;5;167;01mValueError\u001b[39;00m(\u001b[38;5;124m\"\u001b[39m\u001b[38;5;124mSides must be greater than 2\u001b[39m\u001b[38;5;124m\"\u001b[39m)\n\u001b[1;32m     22\u001b[0m     \u001b[38;5;28mself\u001b[39m\u001b[38;5;241m.\u001b[39m_sides \u001b[38;5;241m=\u001b[39m sides\n",
      "\u001b[0;31mValueError\u001b[0m: Sides must be greater than 2"
     ]
    }
   ],
   "source": [
    "tri = Shape(3,5)\n",
    "tri.sides = 0\n",
    "\n",
    "print(tri)"
   ]
  },
  {
   "cell_type": "markdown",
   "metadata": {},
   "source": [
    "__class method__\n",
    "If we want to only have a single instance of a class and not instantiate objects\n",
    "\n",
    "- use the decorator @classmethod to be able to call the method from the __singleton__ class\n",
    "- Really just a container to group functionality\n",
    "\n",
    "- could just make fuctions, but this is a way of logically organizing code"
   ]
  },
  {
   "cell_type": "code",
   "execution_count": 31,
   "metadata": {},
   "outputs": [],
   "source": [
    "import random\n",
    "class Colorize:\n",
    "    choices = [\"Red\", \"Green\", \"Blue\", \"Yellow\"]\n",
    "\n",
    "    @classmethod\n",
    "    def randomColor(cls, shape):\n",
    "        print(shape, \"is colored:\", random.choice(cls.choices))"
   ]
  },
  {
   "cell_type": "code",
   "execution_count": 35,
   "metadata": {},
   "outputs": [
    {
     "name": "stdout",
     "output_type": "stream",
     "text": [
      "Square is colored: Yellow\n"
     ]
    }
   ],
   "source": [
    "Colorize.randomColor(\"Square\")"
   ]
  }
 ],
 "metadata": {
  "kernelspec": {
   "display_name": ".venv",
   "language": "python",
   "name": "python3"
  },
  "language_info": {
   "codemirror_mode": {
    "name": "ipython",
    "version": 3
   },
   "file_extension": ".py",
   "mimetype": "text/x-python",
   "name": "python",
   "nbconvert_exporter": "python",
   "pygments_lexer": "ipython3",
   "version": "3.12.0"
  }
 },
 "nbformat": 4,
 "nbformat_minor": 2
}
