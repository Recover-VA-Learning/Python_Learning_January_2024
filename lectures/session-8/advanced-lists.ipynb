{
 "cells": [
  {
   "cell_type": "markdown",
   "metadata": {},
   "source": [
    "## Advanced Lists\n",
    "- Slicing\n",
    "- List Comprehension\n",
    "- Built-in List functions\n",
    "- Data structures with lists"
   ]
  },
  {
   "cell_type": "code",
   "execution_count": 1,
   "metadata": {},
   "outputs": [
    {
     "name": "stdout",
     "output_type": "stream",
     "text": [
      "[1, 2, 3]\n"
     ]
    }
   ],
   "source": [
    "my_list = [1,2,3,4,5,6]\n",
    "half_index = len(my_list) // 2\n",
    "first_half_of_list = my_list[:half_index]\n",
    "print(first_half_of_list)\n",
    "\n",
    "# Change to 5 elements, what happens? Why"
   ]
  },
  {
   "cell_type": "markdown",
   "metadata": {},
   "source": [
    "### 1. Slicing\n",
    "https://www.geeksforgeeks.org/python-list-slicing/\n",
    "- used to extract sublist from list\n",
    "- uses start and stop indices\n",
    "\n",
    "```list[start:stop:step]```\n",
    "\n"
   ]
  },
  {
   "cell_type": "code",
   "execution_count": 2,
   "metadata": {},
   "outputs": [
    {
     "name": "stdout",
     "output_type": "stream",
     "text": [
      "[1, 2, 3, 4, 5, 6]\n"
     ]
    }
   ],
   "source": [
    "my_list = [1,2,3,4,5,6]\n",
    "sublist = my_list[:]\n",
    "print(sublist)"
   ]
  },
  {
   "cell_type": "code",
   "execution_count": 3,
   "metadata": {},
   "outputs": [
    {
     "name": "stdout",
     "output_type": "stream",
     "text": [
      "[2]\n"
     ]
    }
   ],
   "source": [
    "my_list = [1,2,3,4,5,6]\n",
    "sublist = my_list[1:2] # start: is inclusive, stop: is exclusive\n",
    "print(sublist)"
   ]
  },
  {
   "cell_type": "code",
   "execution_count": 4,
   "metadata": {},
   "outputs": [
    {
     "name": "stdout",
     "output_type": "stream",
     "text": [
      "[1, 2, 3, 4]\n"
     ]
    }
   ],
   "source": [
    "my_list = [1,2,3,4,5,6]\n",
    "sublist = my_list[:-2] # start: is inclusive, stop: is exclusive\n",
    "print(sublist)"
   ]
  },
  {
   "cell_type": "code",
   "execution_count": 5,
   "metadata": {},
   "outputs": [
    {
     "name": "stdout",
     "output_type": "stream",
     "text": [
      "[0, 2, 4, 6, 8, 10]\n"
     ]
    }
   ],
   "source": [
    "# step is optional\n",
    "my_list = [0,1,2,3,4,5,6,7,8,9,10]\n",
    "sublist = my_list[::2] # start: is inclusive, stop: is exclusive\n",
    "print(sublist)"
   ]
  },
  {
   "cell_type": "code",
   "execution_count": 6,
   "metadata": {},
   "outputs": [
    {
     "name": "stdout",
     "output_type": "stream",
     "text": [
      "[10, 9, 8, 7, 6, 5, 4, 3, 2, 1, 0]\n"
     ]
    }
   ],
   "source": [
    "my_list = [0,1,2,3,4,5,6,7,8,9,10]\n",
    "sublist = my_list[::-1] \n",
    "print(sublist)"
   ]
  },
  {
   "cell_type": "code",
   "execution_count": 7,
   "metadata": {},
   "outputs": [
    {
     "name": "stdout",
     "output_type": "stream",
     "text": [
      "[4]\n"
     ]
    }
   ],
   "source": [
    "my_list = [0,1,2,3,4,5,6,7,8,9,10]\n",
    "sublist = my_list[4:2:-2] # step takes precedent\n",
    "print(sublist)"
   ]
  },
  {
   "cell_type": "code",
   "execution_count": 8,
   "metadata": {},
   "outputs": [
    {
     "name": "stdout",
     "output_type": "stream",
     "text": [
      "worldhello\n"
     ]
    }
   ],
   "source": [
    "# a string can be sliced\n",
    "my_string = \"hello, world\"\n",
    "substring = my_string[7:]\n",
    "substring += \"hello\" # same thing as substring = substring + \"tim\"\n",
    "print(substring)"
   ]
  },
  {
   "cell_type": "markdown",
   "metadata": {},
   "source": [
    "### 1. List Comprehension\n",
    "https://www.geeksforgeeks.org/python-list-comprehension/\n",
    "- expression executed for each ites in a list\n",
    "- returns output as list with changes \n",
    "\n",
    "```[expression for item in list if condition]```"
   ]
  },
  {
   "cell_type": "code",
   "execution_count": 9,
   "metadata": {},
   "outputs": [
    {
     "name": "stdout",
     "output_type": "stream",
     "text": [
      "[24, 26, 28]\n"
     ]
    }
   ],
   "source": [
    "numbers = [12, 13, 14,] \n",
    "doubled = [x *2  for x in numbers] \n",
    "\n",
    "print(doubled)"
   ]
  },
  {
   "cell_type": "code",
   "execution_count": 10,
   "metadata": {},
   "outputs": [
    {
     "name": "stdout",
     "output_type": "stream",
     "text": [
      "[24, 26, 28]\n"
     ]
    }
   ],
   "source": [
    "# Above code is the same as\n",
    "numbers = [12, 13, 14,] \n",
    "output = []\n",
    "for x in numbers:\n",
    "    result = x * 2\n",
    "    output.append(result)\n",
    "\n",
    "print(output)"
   ]
  },
  {
   "cell_type": "code",
   "execution_count": 11,
   "metadata": {},
   "outputs": [
    {
     "name": "stdout",
     "output_type": "stream",
     "text": [
      "[0, 2, 4, 6, 8, 10]\n"
     ]
    }
   ],
   "source": [
    "# Can use conditionals in the list comprension\n",
    "my_list = [i for i in range(11) if i % 2 == 0] \n",
    "print(my_list)"
   ]
  },
  {
   "cell_type": "code",
   "execution_count": 12,
   "metadata": {},
   "outputs": [
    {
     "name": "stdout",
     "output_type": "stream",
     "text": [
      "[[0, 1, 2], [0, 1, 2], [0, 1, 2]]\n"
     ]
    }
   ],
   "source": [
    "# can nest list comprehension for a 2d array\n",
    "matrix = [[j for j in range(3)] for i in range(3)] \n",
    "print(matrix)"
   ]
  },
  {
   "cell_type": "code",
   "execution_count": 13,
   "metadata": {},
   "outputs": [
    {
     "name": "stdout",
     "output_type": "stream",
     "text": [
      "['proj_1', 'proj_2', 'proj_3']\n"
     ]
    }
   ],
   "source": [
    "# can use with strings\n",
    "folders = [\n",
    "    'proj_1',\n",
    "    'proj_2',\n",
    "    'data_1',\n",
    "    'documents',\n",
    "    'data_2',\n",
    "    'proj_3'\n",
    "]\n",
    "target_folders = [x for x in folders if x.startswith('proj')]\n",
    "print(target_folders)"
   ]
  },
  {
   "cell_type": "markdown",
   "metadata": {},
   "source": [
    "### 3. Built-in List fuctions\n",
    "- enumerate: to get index and value while iterating\n",
    "- zip: to combine lists into tuple\n",
    "- sorted: to sort\n",
    "- any/all: to check presence in list"
   ]
  },
  {
   "cell_type": "code",
   "execution_count": 14,
   "metadata": {},
   "outputs": [
    {
     "name": "stdout",
     "output_type": "stream",
     "text": [
      "<enumerate object at 0x000002415AC24640>\n",
      "0 2\n",
      "1 2\n",
      "2 4\n",
      "3 4\n",
      "4 5\n",
      "5 6\n",
      "6 7\n",
      "7 12\n"
     ]
    }
   ],
   "source": [
    "# enumerate \n",
    "my_list = [2,2,4,4,5,6,7,12]\n",
    "print(enumerate(my_list))\n",
    "\n",
    "for index,value in enumerate(my_list):\n",
    "    print(index,value)"
   ]
  },
  {
   "cell_type": "code",
   "execution_count": 15,
   "metadata": {},
   "outputs": [
    {
     "name": "stdout",
     "output_type": "stream",
     "text": [
      "key_1 1\n",
      "key_2 2\n",
      "key_3 3\n"
     ]
    }
   ],
   "source": [
    "#dicts have item to enumberate\n",
    "my_dict = {\"key_1\":1, \"key_2\":2, \"key_3\":3}\n",
    "for index,value in my_dict.items():\n",
    "    print(index,value)"
   ]
  },
  {
   "cell_type": "code",
   "execution_count": 17,
   "metadata": {},
   "outputs": [
    {
     "name": "stdout",
     "output_type": "stream",
     "text": [
      "[('a', 2), ('b', 3), ('c', 4)]\n",
      "<class 'tuple'>\n"
     ]
    }
   ],
   "source": [
    "# zip will combine lists\n",
    "list_1 = [\"a\",\"b\",\"c\"]\n",
    "list_2 = [2,3,4]\n",
    "\n",
    "new_list = list(zip(list_1, list_2)) #use the list () function to make the zipped tuples back into list\n",
    "print(new_list)\n",
    "print(type(new_list[0]))"
   ]
  },
  {
   "cell_type": "code",
   "execution_count": 18,
   "metadata": {},
   "outputs": [
    {
     "name": "stdout",
     "output_type": "stream",
     "text": [
      "[2, 3, 4, 5, 6, 7, 7, 12]\n"
     ]
    }
   ],
   "source": [
    "#sorted\n",
    "my_list = [7,2,3,4,5,6,7,12]\n",
    "sorted_list = sorted(my_list)\n",
    "print(sorted_list)"
   ]
  },
  {
   "cell_type": "code",
   "execution_count": 19,
   "metadata": {},
   "outputs": [
    {
     "name": "stdout",
     "output_type": "stream",
     "text": [
      "['apple', 'banana', 'orange']\n"
     ]
    }
   ],
   "source": [
    "my_list = [\"apple\", \"orange\", \"banana\"]\n",
    "sorted_list = sorted(my_list)\n",
    "print(sorted_list)"
   ]
  },
  {
   "cell_type": "code",
   "execution_count": 24,
   "metadata": {},
   "outputs": [
    {
     "name": "stdout",
     "output_type": "stream",
     "text": [
      "['1', '2222', '3', '55']\n"
     ]
    }
   ],
   "source": [
    "my_list = [\"1\", \"3\", \"2222\", \"55\"]\n",
    "sorted_list = sorted(my_list)\n",
    "print(sorted_list)"
   ]
  },
  {
   "cell_type": "code",
   "execution_count": 31,
   "metadata": {},
   "outputs": [
    {
     "name": "stdout",
     "output_type": "stream",
     "text": [
      "[[1, 3, 4, 5, 5, 5, 5], [2, 2, 2, 2, 3], [3, 2, 3], [17, 3]]\n"
     ]
    }
   ],
   "source": [
    "my_list = [[17,3], [1,3,4,5,5,5,5], [3,2,3], [2,2,2,2,3]] # sorts on first element\n",
    "sorted_list = sorted(my_list)\n",
    "print(sorted_list)"
   ]
  },
  {
   "cell_type": "code",
   "execution_count": null,
   "metadata": {},
   "outputs": [],
   "source": []
  }
 ],
 "metadata": {
  "kernelspec": {
   "display_name": ".venv",
   "language": "python",
   "name": "python3"
  },
  "language_info": {
   "codemirror_mode": {
    "name": "ipython",
    "version": 3
   },
   "file_extension": ".py",
   "mimetype": "text/x-python",
   "name": "python",
   "nbconvert_exporter": "python",
   "pygments_lexer": "ipython3",
   "version": "3.10.0"
  }
 },
 "nbformat": 4,
 "nbformat_minor": 2
}
